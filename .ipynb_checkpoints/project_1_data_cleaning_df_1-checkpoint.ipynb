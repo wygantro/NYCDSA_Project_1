{
 "cells": [
  {
   "cell_type": "code",
   "execution_count": null,
   "id": "736843a8",
   "metadata": {},
   "outputs": [],
   "source": [
    "import pandas as pd\n",
    "import numpy as np\n",
    "import matplotlib.pyplot as plt \n",
    "import seaborn as sns\n",
    "import plotly.express as px"
   ]
  },
  {
   "cell_type": "markdown",
   "id": "8dc16192",
   "metadata": {},
   "source": [
    "CREATE: df_11"
   ]
  },
  {
   "cell_type": "code",
   "execution_count": null,
   "id": "065faa13",
   "metadata": {},
   "outputs": [],
   "source": [
    "#### import data ####\n",
    "m1supply_df = pd.read_csv(r'./data/M1SL.csv')\n",
    "#https://fred.stlouisfed.org/series/M1SL\n",
    "gdp_df = pd.read_csv(r'./data/GDP.csv')\n",
    "#https://fred.stlouisfed.org/series/GDP\n",
    "fed_funds_rate_df = pd.read_csv(r'./data/FEDFUNDS.csv')\n",
    "#https://fred.stlouisfed.org/series/FEDFUNDS\n",
    "fed_bal_df = pd.read_csv(r'./data/RESPPANWW.csv')\n",
    "#https://fred.stlouisfed.org/series/RESPPANWW\n",
    "gov_debt_df = pd.read_csv(r'./data/GFDEBTN.csv')\n",
    "#https://fred.stlouisfed.org/series/GFDEBTN"
   ]
  },
  {
   "cell_type": "code",
   "execution_count": null,
   "id": "8985af32",
   "metadata": {},
   "outputs": [],
   "source": [
    "#### m1supply_df cleaning ####\n",
    "# rename header\n",
    "m1supply_df.columns = ['date', 'm1_supply']\n",
    "# change data type to datetime\n",
    "m1supply_df['date'] = pd.to_datetime(m1supply_df['date'])\n",
    "# remove days from data column. yyyy-mm '-dd'\n",
    "m1supply_df['date'] = m1supply_df['date'].dt.strftime('%Y-%m')\n",
    "# set index to date and sort\n",
    "m1supply_df = m1supply_df.set_index('date', drop = False)\n",
    "m1supply_df = m1supply_df.sort_index()\n",
    "# slice time series data from '2008-01' to '2022-12'\n",
    "m1supply_df = m1supply_df.loc['2003-01': '2022-12']\n",
    "# change data type to float in cpi columns\n",
    "m1supply_df[['m1_supply']] = m1supply_df[['m1_supply']].astype(float)\n",
    "m1supply_df['date'] = pd.to_datetime(m1supply_df['date'])"
   ]
  },
  {
   "cell_type": "code",
   "execution_count": null,
   "id": "94b5eddd",
   "metadata": {},
   "outputs": [],
   "source": [
    "# ## postprocessing\n",
    "# print(m1supply_df.info())\n",
    "# print(m1supply_df.describe(include='all', datetime_is_numeric=True))\n",
    "# ## final m1supply_df\n",
    "# m1supply_df.head()"
   ]
  },
  {
   "cell_type": "code",
   "execution_count": null,
   "id": "a25df74d",
   "metadata": {},
   "outputs": [],
   "source": [
    "#### gdp_df cleaning ####\n",
    "# rename header\n",
    "gdp_df.columns = ['date', 'gdp']\n",
    "# change data type to datetime\n",
    "gdp_df['date'] = pd.to_datetime(gdp_df['date'])\n",
    "# remove days from data column. yyyy-mm '-dd'\n",
    "gdp_df['date'] = gdp_df['date'].dt.strftime('%Y-%m')\n",
    "# set index to date and sort\n",
    "gdp_df = gdp_df.set_index('date', drop = False)\n",
    "gdp_df = gdp_df.sort_index()\n",
    "# slice time series data from '2008-01' to '2022-12'\n",
    "gdp_df = gdp_df.loc['2003-01': '2022-12']\n",
    "# change data type to float in cpi columns\n",
    "gdp_df[['gdp']] = gdp_df[['gdp']].astype(float)\n",
    "gdp_df['date'] = pd.to_datetime(gdp_df['date'])"
   ]
  },
  {
   "cell_type": "code",
   "execution_count": null,
   "id": "c751cd94",
   "metadata": {},
   "outputs": [],
   "source": [
    "# ## postprocessing\n",
    "# print(gdp_df.info())\n",
    "# print(gdp_df.describe(include='all', datetime_is_numeric=True))\n",
    "# ## final m1supply_df\n",
    "# gdp_df.head()"
   ]
  },
  {
   "cell_type": "code",
   "execution_count": null,
   "id": "f85b2d15",
   "metadata": {},
   "outputs": [],
   "source": [
    "#### fed_funds_rate_df cleaning ####\n",
    "# rename header\n",
    "fed_funds_rate_df.columns = ['date', 'fed_funds_rate']\n",
    "# change data type to datetime\n",
    "fed_funds_rate_df['date'] = pd.to_datetime(fed_funds_rate_df['date'])\n",
    "# remove days from data column. yyyy-mm '-dd'\n",
    "fed_funds_rate_df['date'] = fed_funds_rate_df['date'].dt.strftime('%Y-%m')\n",
    "# set index to date and sort\n",
    "fed_funds_rate_df = fed_funds_rate_df.set_index('date', drop = False)\n",
    "fed_funds_rate_df = fed_funds_rate_df.sort_index()\n",
    "# slice time series data from '2008-01' to '2022-12'\n",
    "fed_funds_rate_df = fed_funds_rate_df.loc['2003-01': '2022-12']\n",
    "# change data type to float in cpi columns\n",
    "fed_funds_rate_df[['fed_funds_rate']] = fed_funds_rate_df[['fed_funds_rate']].astype(float)\n",
    "fed_funds_rate_df['date'] = pd.to_datetime(fed_funds_rate_df['date'])"
   ]
  },
  {
   "cell_type": "code",
   "execution_count": null,
   "id": "d1a9c2a5",
   "metadata": {},
   "outputs": [],
   "source": [
    "# ## postprocessing\n",
    "# print(fed_funds_rate_df.info())\n",
    "# print(fed_funds_rate_df.describe(include='all', datetime_is_numeric=True))\n",
    "# ## final fed_funds_rate_df\n",
    "# fed_funds_rate_df.head()"
   ]
  },
  {
   "cell_type": "code",
   "execution_count": null,
   "id": "6b33bc70",
   "metadata": {},
   "outputs": [],
   "source": [
    "#### fed_bal_df cleaning ####\n",
    "# rename header\n",
    "fed_bal_df.columns = ['date', 'fed_bal']\n",
    "# change data type to datetime\n",
    "fed_bal_df['date'] = pd.to_datetime(fed_bal_df['date'])\n",
    "# remove days from data column. yyyy-mm '-dd'\n",
    "fed_bal_df['date'] = fed_bal_df['date'].dt.strftime('%Y-%m')\n",
    "# remove duplicate date values (time step = monthly)\n",
    "fed_bal_df = fed_bal_df.drop_duplicates('date')\n",
    "# set index to date and sort\n",
    "fed_bal_df = fed_bal_df.set_index('date', drop = False)\n",
    "fed_bal_df = fed_bal_df.sort_index()\n",
    "# slice time series data from '2008-01' to '2022-12'\n",
    "fed_bal_df = fed_bal_df.loc['2003-01': '2022-12']\n",
    "# change data type to float in cpi columns\n",
    "fed_bal_df[['fed_bal']] = fed_bal_df[['fed_bal']].astype(float)\n",
    "fed_bal_df['date'] = pd.to_datetime(fed_bal_df['date'])"
   ]
  },
  {
   "cell_type": "code",
   "execution_count": null,
   "id": "6497f6c1",
   "metadata": {},
   "outputs": [],
   "source": [
    "# ## postprocessing\n",
    "# print(fed_bal_df.info())\n",
    "# print(fed_bal_df.describe(include='all', datetime_is_numeric=True))\n",
    "# ## final fed_bal_df\n",
    "# fed_bal_df.head()"
   ]
  },
  {
   "cell_type": "code",
   "execution_count": null,
   "id": "7ea3cf6d",
   "metadata": {},
   "outputs": [],
   "source": [
    "#### gov_debt_df cleaning ####\n",
    "# rename header\n",
    "gov_debt_df.columns = ['date', 'gov_debt']\n",
    "# change data type to datetime\n",
    "gov_debt_df['date'] = pd.to_datetime(gov_debt_df['date'])\n",
    "# remove days from data column. yyyy-mm '-dd'\n",
    "gov_debt_df['date'] = gov_debt_df['date'].dt.strftime('%Y-%m')\n",
    "# remove duplicate date values (time step = monthly)\n",
    "gov_debt_df = gov_debt_df.drop_duplicates('date')\n",
    "# set index to date and sort\n",
    "gov_debt_df = gov_debt_df.set_index('date', drop = False)\n",
    "gov_debt_df = gov_debt_df.sort_index()\n",
    "# slice time series data from '2008-01' to '2022-12'\n",
    "gov_debt_df = gov_debt_df.loc['2003-01': '2022-12']\n",
    "# change data type to float in cpi columns\n",
    "gov_debt_df[['gov_debt']] = gov_debt_df[['gov_debt']].astype(float)\n",
    "gov_debt_df['date'] = pd.to_datetime(gov_debt_df['date'])"
   ]
  },
  {
   "cell_type": "code",
   "execution_count": null,
   "id": "a99cbd1b",
   "metadata": {},
   "outputs": [],
   "source": [
    "# ## postprocessing\n",
    "# print(gov_debt_df.info())\n",
    "# print(gov_debt_df.describe(include='all', datetime_is_numeric=True))\n",
    "# ## final fed_funds_rate_df\n",
    "# gov_debt_df.head()"
   ]
  },
  {
   "cell_type": "code",
   "execution_count": null,
   "id": "7f5a3225",
   "metadata": {},
   "outputs": [],
   "source": [
    "#remove date column (currently indexed)\n",
    "m1supply_df = m1supply_df.drop(['date'], axis=1)\n",
    "gdp_df = gdp_df.drop(['date'], axis=1)\n",
    "fed_funds_rate_df = fed_funds_rate_df.drop(['date'], axis=1)\n",
    "fed_bal_df = fed_bal_df.drop(['date'], axis=1)\n",
    "gov_debt_df = gov_debt_df.drop(['date'], axis=1)"
   ]
  },
  {
   "cell_type": "code",
   "execution_count": null,
   "id": "f63eee97",
   "metadata": {},
   "outputs": [],
   "source": [
    "#merge all data frames to df_11\n",
    "df_11 = pd.merge(m1supply_df, gdp_df, how='outer', on = 'date').merge(fed_funds_rate_df, how='outer', on = 'date').merge(fed_bal_df, how='outer', on = 'date').merge(gov_debt_df, how='outer', on = 'date')\n",
    "#linear interpolation for government_debt_usd quarterly data\n",
    "df_11 = df_11.interpolate(limit=1, limit_direction='both').fillna(method='ffill')\n",
    "#create velocity_money = gdp / m1_supply\n",
    "df_11 ['velocity_money'] = df_11['gdp'] / df_11['m1_supply']\n",
    "df_11"
   ]
  },
  {
   "cell_type": "code",
   "execution_count": null,
   "id": "d88dfeb1",
   "metadata": {},
   "outputs": [],
   "source": [
    "# save data frame as df_11\n",
    "from pathlib import Path  \n",
    "filepath = Path('./data_frames/df_11.csv')  \n",
    "filepath.parent.mkdir(parents=True, exist_ok=True)  \n",
    "df_11.to_csv(filepath)"
   ]
  },
  {
   "cell_type": "markdown",
   "id": "fdb6206e",
   "metadata": {},
   "source": [
    "CREATE: df_12"
   ]
  },
  {
   "cell_type": "code",
   "execution_count": null,
   "id": "51d81722",
   "metadata": {},
   "outputs": [],
   "source": [
    "#### import data ####\n",
    "nasdaq100_df = pd.read_csv(r'./data/NASDAQ100.csv')\n",
    "#https://fred.stlouisfed.org/series/NASDAQ100\n",
    "btc_price_df = pd.read_csv(r'./data/CBBTCUSD.csv')\n",
    "#https://fred.stlouisfed.org/series/CBBTCUSD\n",
    "housing_index_df = pd.read_csv(r'./data/USSTHPI.csv')\n",
    "#https://fred.stlouisfed.org/series/USSTHPI\n",
    "commod_index_df = pd.read_csv(r'./data/PALLFNFINDEXM.csv')\n",
    "#https://fred.stlouisfed.org/series/PALLFNFINDEXM\n",
    "energy_index_df = pd.read_csv(r'./data/PNRGINDEXM.csv')\n",
    "#https://fred.stlouisfed.org/series/PNRGINDEXM"
   ]
  },
  {
   "cell_type": "code",
   "execution_count": null,
   "id": "eb2e531b",
   "metadata": {},
   "outputs": [],
   "source": [
    "#### nasdaq100_df cleaning ####\n",
    "# rename header\n",
    "nasdaq100_df.columns = ['date', 'nasdaq100']\n",
    "# change data type to datetime\n",
    "nasdaq100_df['date'] = pd.to_datetime(nasdaq100_df['date'])\n",
    "# remove days from data column. yyyy-mm '-dd'\n",
    "nasdaq100_df['date'] = nasdaq100_df['date'].dt.strftime('%Y-%m')\n",
    "# set index to date and sort\n",
    "nasdaq100_df = nasdaq100_df.set_index('date', drop = False)\n",
    "nasdaq100_df = nasdaq100_df.sort_index()\n",
    "# slice time series data from '2008-01' to '2022-12'\n",
    "nasdaq100_df = nasdaq100_df.loc['2008-01': '2022-12']\n",
    "# replace values in this dataset that are str('.') \n",
    "nasdaq100_df = nasdaq100_df.replace('.', np.nan)\n",
    "# change data type to float in cpi columns\n",
    "nasdaq100_df[['nasdaq100']] = nasdaq100_df[['nasdaq100']].astype(float)\n",
    "nasdaq100_df['date'] = pd.to_datetime(nasdaq100_df['date'])"
   ]
  },
  {
   "cell_type": "code",
   "execution_count": null,
   "id": "2d9b6101",
   "metadata": {},
   "outputs": [],
   "source": [
    "# ## postprocessing\n",
    "# print(nasdaq100_df.info())\n",
    "# print(nasdaq100_df.describe(include='all', datetime_is_numeric=True))\n",
    "\n",
    "# ## final nasdaq100_df\n",
    "# nasdaq100_df.head()"
   ]
  },
  {
   "cell_type": "code",
   "execution_count": null,
   "id": "ae2d82ac",
   "metadata": {},
   "outputs": [],
   "source": [
    "#### btc_price_df cleaning ####\n",
    "# rename header\n",
    "btc_price_df.columns = ['date', 'btc_price']\n",
    "# change data type to datetime\n",
    "btc_price_df['date'] = pd.to_datetime(btc_price_df['date'])\n",
    "# remove days from data column. yyyy-mm '-dd'\n",
    "btc_price_df['date'] = btc_price_df['date'].dt.strftime('%Y-%m')\n",
    "# set index to date and sort\n",
    "btc_price_df = btc_price_df.set_index('date', drop = False)\n",
    "btc_price_df = btc_price_df.sort_index()\n",
    "# slice time series data from '2008-01' to '2022-12'\n",
    "btc_price_df = btc_price_df.loc['2008-01': '2022-12']\n",
    "# replace values in this dataset that are str('.') \n",
    "btc_price_df = btc_price_df.replace('.', np.nan)\n",
    "# change data type to float in cpi columns\n",
    "btc_price_df[['btc_price']] = btc_price_df[['btc_price']].astype(float)\n",
    "btc_price_df['date'] = pd.to_datetime(btc_price_df['date'])"
   ]
  },
  {
   "cell_type": "code",
   "execution_count": null,
   "id": "5292ae89",
   "metadata": {},
   "outputs": [],
   "source": [
    "# ## postprocessing\n",
    "# print(btc_price_df.info())\n",
    "# print(btc_price_df.describe(include='all', datetime_is_numeric=True))\n",
    "\n",
    "# ## final nasdaq100_df\n",
    "# btc_price_df.head()"
   ]
  },
  {
   "cell_type": "code",
   "execution_count": null,
   "id": "f38e252f",
   "metadata": {},
   "outputs": [],
   "source": [
    "#### home_prices_df cleaning ####\n",
    "# rename header\n",
    "housing_index_df.columns = ['date', 'housing_index']\n",
    "# change data type to datetime\n",
    "housing_index_df['date'] = pd.to_datetime(housing_index_df['date'])\n",
    "# remove days from data column. yyyy-mm '-dd'\n",
    "housing_index_df['date'] = housing_index_df['date'].dt.strftime('%Y-%m')\n",
    "# set index to date and sort\n",
    "housing_index_df = housing_index_df.set_index('date', drop = False)\n",
    "housing_index_df = housing_index_df.sort_index()\n",
    "# slice time series data from '2008-01' to '2022-12'\n",
    "housing_index_df = housing_index_df.loc['2008-01': '2022-12']\n",
    "# replace values in this dataset that are str('.') \n",
    "housing_index_df = housing_index_df.replace('.', np.nan)\n",
    "# change data type to float in cpi columns\n",
    "housing_index_df[['housing_index']] = housing_index_df[['housing_index']].astype(float)\n",
    "housing_index_df['date'] = pd.to_datetime(housing_index_df['date'])"
   ]
  },
  {
   "cell_type": "code",
   "execution_count": null,
   "id": "48082aa7",
   "metadata": {},
   "outputs": [],
   "source": [
    "# ## postprocessing\n",
    "# print(housing_index_df.info())\n",
    "# print(housing_index_df.describe(include='all', datetime_is_numeric=True))\n",
    "\n",
    "# ## final nasdaq100_df\n",
    "# housing_index_df.head()"
   ]
  },
  {
   "cell_type": "code",
   "execution_count": null,
   "id": "f21c1434",
   "metadata": {},
   "outputs": [],
   "source": [
    "#### commod_index_df cleaning ####\n",
    "# rename header\n",
    "commod_index_df.columns = ['date', 'commod_index']\n",
    "# change data type to datetime\n",
    "commod_index_df['date'] = pd.to_datetime(commod_index_df['date'])\n",
    "# remove days from data column. yyyy-mm '-dd'\n",
    "commod_index_df['date'] = commod_index_df['date'].dt.strftime('%Y-%m')\n",
    "# set index to date and sort\n",
    "commod_index_df = commod_index_df.set_index('date', drop = False)\n",
    "commod_index_df = commod_index_df.sort_index()\n",
    "# slice time series data from '2008-01' to '2022-12'\n",
    "commod_index_df = commod_index_df.loc['2008-01': '2022-12']\n",
    "# replace values in this dataset that are str('.') \n",
    "commod_index_df = commod_index_df.replace('.', np.nan)\n",
    "# change data type to float in cpi columns\n",
    "commod_index_df[['commod_index']] = commod_index_df[['commod_index']].astype(float)\n",
    "commod_index_df['date'] = pd.to_datetime(commod_index_df['date'])"
   ]
  },
  {
   "cell_type": "code",
   "execution_count": null,
   "id": "be115b93",
   "metadata": {},
   "outputs": [],
   "source": [
    "# ## postprocessing\n",
    "# print(commod_index_df.info())\n",
    "# print(commod_index_df.describe(include='all', datetime_is_numeric=True))\n",
    "\n",
    "# ## final nasdaq100_df\n",
    "# commod_index_df.head()"
   ]
  },
  {
   "cell_type": "code",
   "execution_count": null,
   "id": "40e24c49",
   "metadata": {},
   "outputs": [],
   "source": [
    "#### energy_index_df cleaning ####\n",
    "# rename header\n",
    "energy_index_df.columns = ['date', 'energy_index']\n",
    "# change data type to datetime\n",
    "energy_index_df['date'] = pd.to_datetime(energy_index_df['date'])\n",
    "# remove days from data column. yyyy-mm '-dd'\n",
    "energy_index_df['date'] = energy_index_df['date'].dt.strftime('%Y-%m')\n",
    "# set index to date and sort\n",
    "energy_index_df = energy_index_df.set_index('date', drop = False)\n",
    "energy_index_df = energy_index_df.sort_index()\n",
    "# slice time series data from '2008-01' to '2022-12'\n",
    "energy_index_df = energy_index_df.loc['2008-01': '2022-12']\n",
    "# replace values in this dataset that are str('.') \n",
    "energy_index_df = energy_index_df.replace('.', np.nan)\n",
    "# change data type to float in cpi columns\n",
    "energy_index_df[['energy_index']] = energy_index_df[['energy_index']].astype(float)\n",
    "energy_index_df['date'] = pd.to_datetime(energy_index_df['date'])"
   ]
  },
  {
   "cell_type": "code",
   "execution_count": null,
   "id": "c84ceea5",
   "metadata": {},
   "outputs": [],
   "source": [
    "# ## postprocessing\n",
    "# print(energy_index_df.info())\n",
    "# print(energy_index_df.describe(include='all', datetime_is_numeric=True))\n",
    "\n",
    "# ## final nasdaq100_df\n",
    "# energy_index_df.head()"
   ]
  },
  {
   "cell_type": "code",
   "execution_count": null,
   "id": "a93f0c5b",
   "metadata": {},
   "outputs": [],
   "source": [
    "#drop all other rows after first of month\n",
    "nasdaq100_df = nasdaq100_df.assign(M=nasdaq100_df[\"date\"].dt.to_period(\"M\")).drop_duplicates(\"M\").drop(\"M\",axis=1)\n",
    "btc_price_df = btc_price_df.assign(M=btc_price_df[\"date\"].dt.to_period(\"M\")).drop_duplicates(\"M\").drop(\"M\",axis=1)\n",
    "housing_index_df = housing_index_df.assign(M=housing_index_df[\"date\"].dt.to_period(\"M\")).drop_duplicates(\"M\").drop(\"M\",axis=1)\n",
    "commod_index_df = commod_index_df.assign(M=commod_index_df[\"date\"].dt.to_period(\"M\")).drop_duplicates(\"M\").drop(\"M\",axis=1)\n",
    "energy_index_df = energy_index_df.assign(M=energy_index_df[\"date\"].dt.to_period(\"M\")).drop_duplicates(\"M\").drop(\"M\",axis=1)"
   ]
  },
  {
   "cell_type": "code",
   "execution_count": null,
   "id": "7b527080",
   "metadata": {},
   "outputs": [],
   "source": [
    "#remove date column (currently indexed)\n",
    "nasdaq100_df = nasdaq100_df.drop(['date'], axis=1)\n",
    "btc_price_df = btc_price_df.drop(['date'], axis=1)\n",
    "housing_index_df = housing_index_df.drop(['date'], axis=1)\n",
    "commod_index_df = commod_index_df.drop(['date'], axis=1)\n",
    "energy_index_df = energy_index_df.drop(['date'], axis=1)"
   ]
  },
  {
   "cell_type": "code",
   "execution_count": null,
   "id": "f889d0af",
   "metadata": {
    "scrolled": true
   },
   "outputs": [],
   "source": [
    "#merge all data frames to df_12\n",
    "df_12 = pd.merge(nasdaq100_df, btc_price_df, how='outer', on = 'date').merge(housing_index_df, how='outer', on = 'date').merge(commod_index_df, how='outer', on = 'date').merge(energy_index_df, how='outer', on = 'date')\n",
    "#linear interpolation for government_debt_usd quarterly data\n",
    "df_12 = df_12.interpolate(limit=1, limit_direction='both').fillna(method='ffill')\n",
    "df_12"
   ]
  },
  {
   "cell_type": "code",
   "execution_count": null,
   "id": "c31467e3",
   "metadata": {},
   "outputs": [],
   "source": [
    "# save data frame as df_12\n",
    "from pathlib import Path  \n",
    "filepath = Path('./data_frames/df_12.csv')  \n",
    "filepath.parent.mkdir(parents=True, exist_ok=True)  \n",
    "df_12.to_csv(filepath)"
   ]
  },
  {
   "cell_type": "markdown",
   "id": "ce09f4cc",
   "metadata": {},
   "source": [
    "CREATE: df_13"
   ]
  },
  {
   "cell_type": "code",
   "execution_count": null,
   "id": "5c13b811",
   "metadata": {},
   "outputs": [],
   "source": [
    "#### import data ####\n",
    "cpi_index_df = pd.read_csv(r'./data/CPIAUCSL.csv')\n",
    "#https://fred.stlouisfed.org/series/CPIAUCSL\n",
    "unit_labor_df = pd.read_csv(r'./data/ULCNFB.csv')\n",
    "#https://fred.stlouisfed.org/series/ULCNFB\n",
    "personal_savings_df = pd.read_csv(r'./data/PSAVE.csv')\n",
    "#https://fred.stlouisfed.org/series/PSAVE\n",
    "personal_expenses_df = pd.read_csv(r'./data/PCE.csv')\n",
    "#https://fred.stlouisfed.org/series/PCE\n",
    "rent_prim_res_df = pd.read_csv(r'./data/CUUR0000SEHA.csv')\n",
    "#https://fred.stlouisfed.org/series/CUUR0000SEHA"
   ]
  },
  {
   "cell_type": "code",
   "execution_count": null,
   "id": "a768f3c6",
   "metadata": {},
   "outputs": [],
   "source": [
    "#### cpi_index_df cleaning ####\n",
    "\n",
    "# rename header\n",
    "cpi_index_df.columns = ['date', 'cpi_index']\n",
    "# change data type to datetime\n",
    "cpi_index_df['date'] = pd.to_datetime(cpi_index_df['date'])\n",
    "# remove days from data column. yyyy-mm '-dd'\n",
    "cpi_index_df['date'] = cpi_index_df['date'].dt.strftime('%Y-%m')\n",
    "# set index to date and sort\n",
    "cpi_index_df = cpi_index_df.set_index('date', drop = False)\n",
    "cpi_index_df = cpi_index_df.sort_index()\n",
    "# slice time series data from '2008-01' to '2022-12'\n",
    "cpi_index_df = cpi_index_df.loc['2008-01': '2022-12']\n",
    "# change data type to float in cpi columns\n",
    "cpi_index_df[['cpi_index']] = cpi_index_df[['cpi_index']].astype(float)\n",
    "cpi_index_df['date'] = pd.to_datetime(cpi_index_df['date'])"
   ]
  },
  {
   "cell_type": "code",
   "execution_count": null,
   "id": "09bba4ea",
   "metadata": {},
   "outputs": [],
   "source": [
    "#### unit_labor_df cleaning ####\n",
    "\n",
    "# rename header\n",
    "unit_labor_df.columns = ['date', 'unit_labor']\n",
    "# change data type to datetime\n",
    "unit_labor_df['date'] = pd.to_datetime(unit_labor_df['date'])\n",
    "# remove days from data column. yyyy-mm '-dd'\n",
    "unit_labor_df['date'] = unit_labor_df['date'].dt.strftime('%Y-%m')\n",
    "# set index to date and sort\n",
    "unit_labor_df = unit_labor_df.set_index('date', drop = False)\n",
    "unit_labor_df = unit_labor_df.sort_index()\n",
    "# slice time series data from '2008-01' to '2022-12'\n",
    "unit_labor_df = unit_labor_df.loc['2008-01': '2022-12']\n",
    "# change data type to float in cpi columns\n",
    "unit_labor_df[['unit_labor']] = unit_labor_df[['unit_labor']].astype(float)\n",
    "unit_labor_df['date'] = pd.to_datetime(unit_labor_df['date'])"
   ]
  },
  {
   "cell_type": "code",
   "execution_count": null,
   "id": "89086f05",
   "metadata": {},
   "outputs": [],
   "source": [
    "#### personal_savings_df cleaning ####\n",
    "\n",
    "# rename header\n",
    "personal_savings_df.columns = ['date', 'personal_savings']\n",
    "# change data type to datetime\n",
    "personal_savings_df['date'] = pd.to_datetime(personal_savings_df['date'])\n",
    "# remove days from data column. yyyy-mm '-dd'\n",
    "personal_savings_df['date'] = personal_savings_df['date'].dt.strftime('%Y-%m')\n",
    "# set index to date and sort\n",
    "personal_savings_df = personal_savings_df.set_index('date', drop = False)\n",
    "personal_savings_df = personal_savings_df.sort_index()\n",
    "# slice time series data from '2008-01' to '2022-12'\n",
    "personal_savings_df = personal_savings_df.loc['2008-01': '2022-12']\n",
    "# change data type to float in cpi columns\n",
    "personal_savings_df[['personal_savings']] = personal_savings_df[['personal_savings']].astype(float)\n",
    "personal_savings_df['date'] = pd.to_datetime(personal_savings_df['date'])"
   ]
  },
  {
   "cell_type": "code",
   "execution_count": null,
   "id": "4ef0b761",
   "metadata": {},
   "outputs": [],
   "source": [
    "#### personal_expenses_df cleaning ####\n",
    "\n",
    "# rename header\n",
    "personal_expenses_df.columns = ['date', 'personal_expenses']\n",
    "# change data type to datetime\n",
    "personal_expenses_df['date'] = pd.to_datetime(personal_expenses_df['date'])\n",
    "# remove days from data column. yyyy-mm '-dd'\n",
    "personal_expenses_df['date'] = personal_expenses_df['date'].dt.strftime('%Y-%m')\n",
    "# set index to date and sort\n",
    "personal_expenses_df = personal_expenses_df.set_index('date', drop = False)\n",
    "personal_expenses_df = personal_expenses_df.sort_index()\n",
    "# slice time series data from '2008-01' to '2022-12'\n",
    "personal_expenses_df = personal_expenses_df.loc['2008-01': '2022-12']\n",
    "# change data type to float in cpi columns\n",
    "personal_expenses_df[['personal_expenses']] = personal_expenses_df[['personal_expenses']].astype(float)\n",
    "personal_expenses_df['date'] = pd.to_datetime(personal_expenses_df['date'])"
   ]
  },
  {
   "cell_type": "code",
   "execution_count": null,
   "id": "5cfba554",
   "metadata": {},
   "outputs": [],
   "source": [
    "#### rent_prim_res_df cleaning ####\n",
    "\n",
    "# rename 'rent_prim_res'\n",
    "rent_prim_res_df.columns = ['date', 'rent_prim_res']\n",
    "# change data type to datetime\n",
    "rent_prim_res_df['date'] = pd.to_datetime(rent_prim_res_df['date'])\n",
    "# remove days from data column. yyyy-mm '-dd'\n",
    "rent_prim_res_df['date'] = rent_prim_res_df['date'].dt.strftime('%Y-%m')\n",
    "# replace values in this dataset that are str('.') \n",
    "rent_prim_res_df = rent_prim_res_df.replace('.', np.nan)\n",
    "# set index to date and sort\n",
    "rent_prim_res_df = rent_prim_res_df.set_index('date', drop = False)\n",
    "rent_prim_res_df = rent_prim_res_df.sort_index()\n",
    "# slice time series data from '2008-01' to '2022-12'\n",
    "rent_prim_res_df = rent_prim_res_df.loc['2008-01': '2022-12']\n",
    "# change data type to float in cpi columns\n",
    "rent_prim_res_df[['rent_prim_res']] = rent_prim_res_df[['rent_prim_res']].astype(float)\n",
    "rent_prim_res_df['date'] = pd.to_datetime(rent_prim_res_df['date'])"
   ]
  },
  {
   "cell_type": "code",
   "execution_count": null,
   "id": "3bb4766c",
   "metadata": {},
   "outputs": [],
   "source": [
    "#remove date column (currently indexed)\n",
    "cpi_index_df = cpi_index_df.drop(['date'], axis=1) #m\n",
    "unit_labor_df = unit_labor_df.drop(['date'], axis=1) #q\n",
    "personal_savings_df = personal_savings_df.drop(['date'], axis=1) #q\n",
    "personal_expenses_df = personal_expenses_df.drop(['date'], axis=1) #m\n",
    "rent_prim_res_df = rent_prim_res_df.drop(['date'], axis=1) #m"
   ]
  },
  {
   "cell_type": "code",
   "execution_count": null,
   "id": "2dc45332",
   "metadata": {},
   "outputs": [],
   "source": [
    "#merge all data frames to df_13\n",
    "df_13 = pd.merge(cpi_index_df, unit_labor_df, how='outer', on = 'date').merge(personal_savings_df, how='outer', on = 'date').merge(personal_expenses_df, how='outer', on = 'date').merge(rent_prim_res_df, how='outer', on = 'date')\n",
    "#linear interpolation for government_debt_usd quarterly data\n",
    "df_13 = df_13.interpolate(limit=1, limit_direction='both').fillna(method='ffill')\n",
    "df_13"
   ]
  },
  {
   "cell_type": "code",
   "execution_count": null,
   "id": "fe1bc243",
   "metadata": {},
   "outputs": [],
   "source": [
    "# save data frame as df_13\n",
    "from pathlib import Path  \n",
    "filepath = Path('./data_frames/df_13.csv')  \n",
    "filepath.parent.mkdir(parents=True, exist_ok=True)  \n",
    "df_13.to_csv(filepath)"
   ]
  },
  {
   "cell_type": "markdown",
   "id": "732d1438",
   "metadata": {},
   "source": [
    "Merge df_11, df_12 and df_13 to df_1"
   ]
  },
  {
   "cell_type": "code",
   "execution_count": null,
   "id": "dce2b4f2",
   "metadata": {},
   "outputs": [],
   "source": [
    "df_1 = pd.merge(df_11, df_12, how='outer', on = 'date').merge(df_13, how='outer', on = 'date')\n",
    "df_1"
   ]
  },
  {
   "cell_type": "code",
   "execution_count": null,
   "id": "8ca83f95",
   "metadata": {},
   "outputs": [],
   "source": [
    "# save data frame as df_1\n",
    "from pathlib import Path  \n",
    "filepath = Path('./data_frames/df_1.csv')  \n",
    "filepath.parent.mkdir(parents=True, exist_ok=True)  \n",
    "df_1.to_csv(filepath)"
   ]
  },
  {
   "cell_type": "code",
   "execution_count": null,
   "id": "9c366a34",
   "metadata": {},
   "outputs": [],
   "source": []
  }
 ],
 "metadata": {
  "kernelspec": {
   "display_name": "Python 3 (ipykernel)",
   "language": "python",
   "name": "python3"
  },
  "language_info": {
   "codemirror_mode": {
    "name": "ipython",
    "version": 3
   },
   "file_extension": ".py",
   "mimetype": "text/x-python",
   "name": "python",
   "nbconvert_exporter": "python",
   "pygments_lexer": "ipython3",
   "version": "3.11.1"
  }
 },
 "nbformat": 4,
 "nbformat_minor": 5
}
