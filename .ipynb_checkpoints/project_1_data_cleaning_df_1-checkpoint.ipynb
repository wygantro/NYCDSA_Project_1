{
 "cells": [
  {
   "cell_type": "code",
   "execution_count": null,
   "id": "736843a8",
   "metadata": {},
   "outputs": [],
   "source": [
    "import pandas as pd"
   ]
  },
  {
   "cell_type": "markdown",
   "id": "8bb33c3a",
   "metadata": {},
   "source": [
    "Create FRED Economic Data specific function for formating/cleaning csv files"
   ]
  },
  {
   "cell_type": "code",
   "execution_count": null,
   "id": "a16e2074",
   "metadata": {},
   "outputs": [],
   "source": [
    "def fred_clean(name, file):\n",
    "    \"\"\"\n",
    "    name: string input. names the dataframe and title of value header column.\n",
    "    file: string input. file name of downloaded FRED data set. format as name.csv\n",
    "    \"\"\"\n",
    "    df = str(name) + '_df'\n",
    "    df = pd.read_csv(r'./data/' + file)\n",
    "    # rename header\n",
    "    df.columns = ['date', name]\n",
    "    # change data type to datetime\n",
    "    df['date'] = pd.to_datetime(df['date'])\n",
    "    # remove days from data column. yyyy-mm '-dd'\n",
    "    df['date'] = df['date'].dt.strftime('%Y-%m')\n",
    "    # remove duplicate date values (time step = monthly)\n",
    "    df = df.drop_duplicates('date')\n",
    "    # set index to date and sort\n",
    "    df = df.set_index('date', drop = False)\n",
    "    df = df.sort_index()\n",
    "    # slice time series data from '2008-01' to '2022-12'\n",
    "    df = df.loc['2003-01': '2022-12']\n",
    "    \n",
    "    # replace values in this dataset that are str('.') \n",
    "  \n",
    "    df = df.replace('.', 0)\n",
    "        \n",
    "    # change data type to float in cpi columns\n",
    "    df[[name]] = df[[name]].astype(float)\n",
    "    df['date'] = pd.to_datetime(df['date'])\n",
    "    return df"
   ]
  },
  {
   "cell_type": "markdown",
   "id": "8dc16192",
   "metadata": {},
   "source": [
    "CREATE: df_11"
   ]
  },
  {
   "cell_type": "code",
   "execution_count": null,
   "id": "065faa13",
   "metadata": {},
   "outputs": [],
   "source": [
    "m1_supply_df = fred_clean('m1_supply', 'M1SL.csv')\n",
    "gdp_df = fred_clean('gdp', 'GDP.CSV')\n",
    "fed_funds_rate_df = fred_clean('fed_funds_rate', 'FEDFUNDS.csv')\n",
    "fed_bal_df = fred_clean('fed_bal', 'RESPPANWW.csv')\n",
    "gov_debt_df = fred_clean('gov_debt', 'GFDEBTN.csv')"
   ]
  },
  {
   "cell_type": "code",
   "execution_count": null,
   "id": "8985af32",
   "metadata": {},
   "outputs": [],
   "source": [
    "#remove date column (currently indexed)\n",
    "m1_supply_df = m1_supply_df.drop(['date'], axis=1)\n",
    "gdp_df = gdp_df.drop(['date'], axis=1)\n",
    "fed_funds_rate_df = fed_funds_rate_df.drop(['date'], axis=1)\n",
    "fed_bal_df = fed_bal_df.drop(['date'], axis=1)\n",
    "gov_debt_df = gov_debt_df.drop(['date'], axis=1)"
   ]
  },
  {
   "cell_type": "code",
   "execution_count": null,
   "id": "94b5eddd",
   "metadata": {},
   "outputs": [],
   "source": [
    "#merge all data frames to df_11\n",
    "df_11 = pd.merge(m1_supply_df, gdp_df, how='outer', on = 'date').merge(fed_funds_rate_df, how='outer', on = 'date').merge(fed_bal_df, how='outer', on = 'date').merge(gov_debt_df, how='outer', on = 'date')\n",
    "#linear interpolation for government_debt_usd quarterly data\n",
    "df_11 = df_11.interpolate(limit=1, limit_direction='both').fillna(method='ffill')\n",
    "#create velocity_money = gdp / m1_supply\n",
    "df_11 ['velocity_money'] = df_11['gdp'] / df_11['m1_supply']\n",
    "df_11"
   ]
  },
  {
   "cell_type": "code",
   "execution_count": null,
   "id": "a25df74d",
   "metadata": {},
   "outputs": [],
   "source": [
    "# save data frame as df_11\n",
    "from pathlib import Path  \n",
    "filepath = Path('./data_frames/df_11.csv')  \n",
    "filepath.parent.mkdir(parents=True, exist_ok=True)  \n",
    "df_11.to_csv(filepath)"
   ]
  },
  {
   "cell_type": "markdown",
   "id": "fdb6206e",
   "metadata": {},
   "source": [
    "CREATE: df_12"
   ]
  },
  {
   "cell_type": "code",
   "execution_count": null,
   "id": "51d81722",
   "metadata": {},
   "outputs": [],
   "source": [
    "#### import data ####\n",
    "nasdaq100_df = fred_clean('nasdaq100', 'NASDAQ100.csv')\n",
    "#https://fred.stlouisfed.org/series/NASDAQ100\n",
    "btc_price_df = fred_clean('btc_price', 'CBBTCUSD.csv')\n",
    "#https://fred.stlouisfed.org/series/CBBTCUSD\n",
    "housing_index_df = fred_clean('housing_index', 'USSTHPI.csv')\n",
    "#https://fred.stlouisfed.org/series/USSTHPI\n",
    "commod_index_df = fred_clean('commod_index', 'PALLFNFINDEXM.csv')\n",
    "#https://fred.stlouisfed.org/series/PALLFNFINDEXM\n",
    "energy_index_df = fred_clean('energy_index', 'PNRGINDEXM.csv')\n",
    "#https://fred.stlouisfed.org/series/PNRGINDEXM"
   ]
  },
  {
   "cell_type": "code",
   "execution_count": null,
   "id": "eb2e531b",
   "metadata": {},
   "outputs": [],
   "source": [
    "#drop all other rows after first of month\n",
    "nasdaq100_df = nasdaq100_df.assign(M=nasdaq100_df[\"date\"].dt.to_period(\"M\")).drop_duplicates(\"M\").drop(\"M\",axis=1)\n",
    "btc_price_df = btc_price_df.assign(M=btc_price_df[\"date\"].dt.to_period(\"M\")).drop_duplicates(\"M\").drop(\"M\",axis=1)\n",
    "housing_index_df = housing_index_df.assign(M=housing_index_df[\"date\"].dt.to_period(\"M\")).drop_duplicates(\"M\").drop(\"M\",axis=1)\n",
    "commod_index_df = commod_index_df.assign(M=commod_index_df[\"date\"].dt.to_period(\"M\")).drop_duplicates(\"M\").drop(\"M\",axis=1)\n",
    "energy_index_df = energy_index_df.assign(M=energy_index_df[\"date\"].dt.to_period(\"M\")).drop_duplicates(\"M\").drop(\"M\",axis=1)"
   ]
  },
  {
   "cell_type": "code",
   "execution_count": null,
   "id": "2d9b6101",
   "metadata": {},
   "outputs": [],
   "source": [
    "#remove date column (currently indexed)\n",
    "nasdaq100_df = nasdaq100_df.drop(['date'], axis=1)\n",
    "btc_price_df = btc_price_df.drop(['date'], axis=1)\n",
    "housing_index_df = housing_index_df.drop(['date'], axis=1)\n",
    "commod_index_df = commod_index_df.drop(['date'], axis=1)\n",
    "energy_index_df = energy_index_df.drop(['date'], axis=1)"
   ]
  },
  {
   "cell_type": "code",
   "execution_count": null,
   "id": "ae2d82ac",
   "metadata": {},
   "outputs": [],
   "source": [
    "#merge all data frames to df_12\n",
    "df_12 = pd.merge(nasdaq100_df, btc_price_df, how='outer', on = 'date').merge(housing_index_df, how='outer', on = 'date').merge(commod_index_df, how='outer', on = 'date').merge(energy_index_df, how='outer', on = 'date')\n",
    "#linear interpolation for government_debt_usd quarterly data\n",
    "df_12 = df_12.interpolate(limit=1, limit_direction='both').fillna(method='ffill')\n",
    "df_12"
   ]
  },
  {
   "cell_type": "code",
   "execution_count": null,
   "id": "71ea167d",
   "metadata": {},
   "outputs": [],
   "source": [
    "# save data frame as df_12\n",
    "from pathlib import Path  \n",
    "filepath = Path('./data_frames/df_12.csv')  \n",
    "filepath.parent.mkdir(parents=True, exist_ok=True)  \n",
    "df_12.to_csv(filepath)"
   ]
  },
  {
   "cell_type": "markdown",
   "id": "ce09f4cc",
   "metadata": {},
   "source": [
    "CREATE: df_13"
   ]
  },
  {
   "cell_type": "code",
   "execution_count": null,
   "id": "5c13b811",
   "metadata": {},
   "outputs": [],
   "source": [
    "#### import data ####\n",
    "cpi_index_df = fred_clean('cpi_index', 'CPIAUCSL.csv')\n",
    "#https://fred.stlouisfed.org/series/CPIAUCSL\n",
    "unit_labor_df = fred_clean('unit_labor', 'ULCNFB.csv')\n",
    "#https://fred.stlouisfed.org/series/ULCNFB\n",
    "personal_savings_df = fred_clean('personal_savings','PSAVE.csv')\n",
    "#https://fred.stlouisfed.org/series/PSAVE\n",
    "personal_expenses_df = fred_clean('personal_expenses', 'PCE.csv')\n",
    "#https://fred.stlouisfed.org/series/PCE\n",
    "rent_prim_res_df = fred_clean('rent_prim_res', 'CUUR0000SEHA.csv')\n",
    "#https://fred.stlouisfed.org/series/CUUR0000SEHA"
   ]
  },
  {
   "cell_type": "code",
   "execution_count": null,
   "id": "a768f3c6",
   "metadata": {},
   "outputs": [],
   "source": [
    "#remove date column (currently indexed)\n",
    "cpi_index_df = cpi_index_df.drop(['date'], axis=1)\n",
    "unit_labor_df = unit_labor_df.drop(['date'], axis=1)\n",
    "personal_savings_df = personal_savings_df.drop(['date'], axis=1)\n",
    "personal_expenses_df = personal_expenses_df.drop(['date'], axis=1)\n",
    "rent_prim_res_df = rent_prim_res_df.drop(['date'], axis=1)"
   ]
  },
  {
   "cell_type": "code",
   "execution_count": null,
   "id": "09bba4ea",
   "metadata": {},
   "outputs": [],
   "source": [
    "#merge all data frames to df_13\n",
    "df_13 = pd.merge(cpi_index_df, unit_labor_df, how='outer', on = 'date').merge(personal_savings_df, how='outer', on = 'date').merge(personal_expenses_df, how='outer', on = 'date').merge(rent_prim_res_df, how='outer', on = 'date')\n",
    "#linear interpolation for government_debt_usd quarterly data\n",
    "df_13 = df_13.interpolate(limit=1, limit_direction='both').fillna(method='ffill')\n",
    "df_13"
   ]
  },
  {
   "cell_type": "code",
   "execution_count": null,
   "id": "89086f05",
   "metadata": {},
   "outputs": [],
   "source": [
    "# save data frame as df_13\n",
    "from pathlib import Path  \n",
    "filepath = Path('./data_frames/df_13.csv')  \n",
    "filepath.parent.mkdir(parents=True, exist_ok=True)  \n",
    "df_13.to_csv(filepath)"
   ]
  },
  {
   "cell_type": "markdown",
   "id": "732d1438",
   "metadata": {},
   "source": [
    "Merge df_11, df_12 and df_13 to df_1"
   ]
  },
  {
   "cell_type": "code",
   "execution_count": null,
   "id": "dce2b4f2",
   "metadata": {},
   "outputs": [],
   "source": [
    "df_1 = pd.merge(df_11, df_12, how='outer', on = 'date').merge(df_13, how='outer', on = 'date')\n",
    "df_1"
   ]
  },
  {
   "cell_type": "code",
   "execution_count": null,
   "id": "8ca83f95",
   "metadata": {},
   "outputs": [],
   "source": [
    "# save data frame as df_1\n",
    "from pathlib import Path  \n",
    "filepath = Path('./data_frames/df_1.csv')  \n",
    "filepath.parent.mkdir(parents=True, exist_ok=True)  \n",
    "df_1.to_csv(filepath)"
   ]
  }
 ],
 "metadata": {
  "kernelspec": {
   "display_name": "Python 3 (ipykernel)",
   "language": "python",
   "name": "python3"
  },
  "language_info": {
   "codemirror_mode": {
    "name": "ipython",
    "version": 3
   },
   "file_extension": ".py",
   "mimetype": "text/x-python",
   "name": "python",
   "nbconvert_exporter": "python",
   "pygments_lexer": "ipython3",
   "version": "3.11.1"
  }
 },
 "nbformat": 4,
 "nbformat_minor": 5
}
